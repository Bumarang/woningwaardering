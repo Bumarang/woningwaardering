{
 "cells": [
  {
   "cell_type": "code",
   "execution_count": 1,
   "metadata": {},
   "outputs": [
    {
     "ename": "ImportError",
     "evalue": "cannot import name 'EenhedenAdres' from 'woningwaardering.vera.bvg.generated' (/Users/tomergabay/Documents/woonstad_rotterdam/code_projects/woningwaardering/woningwaardering/vera/bvg/generated.py)",
     "output_type": "error",
     "traceback": [
      "\u001b[0;31m---------------------------------------------------------------------------\u001b[0m",
      "\u001b[0;31mImportError\u001b[0m                               Traceback (most recent call last)",
      "Cell \u001b[0;32mIn[1], line 4\u001b[0m\n\u001b[1;32m      2\u001b[0m \u001b[38;5;28;01mfrom\u001b[39;00m \u001b[38;5;21;01mdatetime\u001b[39;00m \u001b[38;5;28;01mimport\u001b[39;00m date\n\u001b[1;32m      3\u001b[0m \u001b[38;5;28;01mfrom\u001b[39;00m \u001b[38;5;21;01mwoningwaardering\u001b[39;00m\u001b[38;5;21;01m.\u001b[39;00m\u001b[38;5;21;01mstelsels\u001b[39;00m \u001b[38;5;28;01mimport\u001b[39;00m utils\n\u001b[0;32m----> 4\u001b[0m \u001b[38;5;28;01mfrom\u001b[39;00m \u001b[38;5;21;01mwoningwaardering\u001b[39;00m\u001b[38;5;21;01m.\u001b[39;00m\u001b[38;5;21;01mvera\u001b[39;00m\u001b[38;5;21;01m.\u001b[39;00m\u001b[38;5;21;01mbvg\u001b[39;00m\u001b[38;5;21;01m.\u001b[39;00m\u001b[38;5;21;01mgenerated\u001b[39;00m \u001b[38;5;28;01mimport\u001b[39;00m (\n\u001b[1;32m      5\u001b[0m EenhedenEenheid,\n\u001b[1;32m      6\u001b[0m EenhedenEnergieprestatie,\n\u001b[1;32m      7\u001b[0m EenhedenRuimte,\n\u001b[1;32m      8\u001b[0m EenhedenAdres,\n\u001b[1;32m      9\u001b[0m EenhedenWoonplaats,\n\u001b[1;32m     10\u001b[0m EenhedenAdresseerbaarObjectBasisregistratie,\n\u001b[1;32m     11\u001b[0m EenhedenPand,\n\u001b[1;32m     12\u001b[0m EenhedenWozEenheid,\n\u001b[1;32m     13\u001b[0m BouwkundigeElementenBouwkundigElement,\n\u001b[1;32m     14\u001b[0m )\n\u001b[1;32m     15\u001b[0m \u001b[38;5;28;01mfrom\u001b[39;00m \u001b[38;5;21;01mwoningwaardering\u001b[39;00m\u001b[38;5;21;01m.\u001b[39;00m\u001b[38;5;21;01mvera\u001b[39;00m\u001b[38;5;21;01m.\u001b[39;00m\u001b[38;5;21;01mreferentiedata\u001b[39;00m \u001b[38;5;28;01mimport\u001b[39;00m (\n\u001b[1;32m     16\u001b[0m Klimaatbeheersing,\n\u001b[1;32m     17\u001b[0m PandSoort,\n\u001b[0;32m   (...)\u001b[0m\n\u001b[1;32m     24\u001b[0m BouwkundigElementDetailSoort,\n\u001b[1;32m     25\u001b[0m )\n\u001b[1;32m     27\u001b[0m stelsel \u001b[38;5;241m=\u001b[39m ZelfstandigeWoonruimten(\n\u001b[1;32m     28\u001b[0m peildatum \u001b[38;5;241m=\u001b[39m date(\u001b[38;5;241m2024\u001b[39m, \u001b[38;5;241m7\u001b[39m, \u001b[38;5;241m1\u001b[39m)\n\u001b[1;32m     29\u001b[0m )\n",
      "\u001b[0;31mImportError\u001b[0m: cannot import name 'EenhedenAdres' from 'woningwaardering.vera.bvg.generated' (/Users/tomergabay/Documents/woonstad_rotterdam/code_projects/woningwaardering/woningwaardering/vera/bvg/generated.py)"
     ]
    }
   ],
   "source": []
  },
  {
   "cell_type": "code",
   "execution_count": null,
   "metadata": {},
   "outputs": [],
   "source": []
  }
 ],
 "metadata": {
  "kernelspec": {
   "display_name": ".venv",
   "language": "python",
   "name": "python3"
  },
  "language_info": {
   "codemirror_mode": {
    "name": "ipython",
    "version": 3
   },
   "file_extension": ".py",
   "mimetype": "text/x-python",
   "name": "python",
   "nbconvert_exporter": "python",
   "pygments_lexer": "ipython3",
   "version": "3.10.13"
  }
 },
 "nbformat": 4,
 "nbformat_minor": 2
}
